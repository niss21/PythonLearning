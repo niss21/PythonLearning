{
 "cells": [
  {
   "cell_type": "code",
   "execution_count": null,
   "id": "a4db6bd7-256b-42e8-88a6-9a192636de22",
   "metadata": {},
   "outputs": [],
   "source": [
    "import pandas as pd\n",
    "import numpy as np\n",
    "import matplotlib.pyplot as plt\n",
    "import seaborn as sns"
   ]
  },
  {
   "cell_type": "code",
   "execution_count": null,
   "id": "72d9465b-e1a6-4543-a9ed-eb62c7c2d8a7",
   "metadata": {},
   "outputs": [],
   "source": [
    "# Read data\n",
    "tsv_file_train = 'train.tsv.zip'\n",
    "csv_table = pd.read_table(tsv_file_train, sep='\\t')\n",
    "csv_table.to_csv('train.csv', index=False)\n",
    "\n",
    "tsv_file_test = 'test.tsv.zip'\n",
    "csv_table = pd.read_table(tsv_file_test, sep='\\t')\n",
    "csv_table.to_csv('test.csv', index=False)"
   ]
  },
  {
   "cell_type": "code",
   "execution_count": null,
   "id": "3fa4c180-16a1-4d91-bdf9-071b35f17e82",
   "metadata": {},
   "outputs": [],
   "source": [
    "# Read dataframe\n",
    "data = pd.read_csv('/train.csv')\n",
    "df_test = pd.read_csv('/test.csv')\n",
    "\n",
    "print(f'Data train:\\n\\n{data[:10]}')\n",
    "print(f'Data test:\\n\\n{df_test[:10]}')"
   ]
  },
  {
   "cell_type": "code",
   "execution_count": null,
   "id": "17d5ec0c-52e8-4f93-ad39-f94057496487",
   "metadata": {},
   "outputs": [],
   "source": [
    "data.head()"
   ]
  },
  {
   "cell_type": "code",
   "execution_count": null,
   "id": "a6fc9887-d240-41e6-b179-596162978708",
   "metadata": {},
   "outputs": [],
   "source": [
    "data.shape"
   ]
  },
  {
   "cell_type": "code",
   "execution_count": null,
   "id": "1b4b110b-04f3-494a-8e04-ac2bc3f7ace8",
   "metadata": {},
   "outputs": [],
   "source": [
    "data['Sentiment'].unique()"
   ]
  },
  {
   "cell_type": "code",
   "execution_count": null,
   "id": "d1be0280-ff46-4a8c-a60b-8a870303d1a6",
   "metadata": {},
   "outputs": [],
   "source": [
    "import re\n",
    "import nltk\n",
    "from nltk.stem.porter import PorterStemmer\n",
    "from nltk.corpus import stopwords"
   ]
  },
  {
   "cell_type": "code",
   "execution_count": null,
   "id": "51bc6ed2-6380-4ce1-9b09-f7c94b8aa9f5",
   "metadata": {},
   "outputs": [],
   "source": [
    "stopwords_set = set(stopwords.words('english'))\n",
    "# Function to preprocess text\n",
    "emoji_pattern = re.compile(r'(?::|;|=)(?:-)?(?:\\)|\\(|D|P)')\n",
    "\n",
    "def preprocessing(text):\n",
    "    if not isinstance(text, str):\n",
    "        return ''\n",
    "    emojis = emoji_pattern.findall(text)\n",
    "    text = re.sub(r'[\\W+]', ' ', text.lower()) + ' '.join(emojis).replace('-', '')\n",
    "    return ' '.join([word for word in text.split() if word not in stopwords_set])"
   ]
  },
  {
   "cell_type": "code",
   "execution_count": null,
   "id": "ccaa5f06-7836-4af3-b5e3-f6118c1d96c9",
   "metadata": {},
   "outputs": [],
   "source": [
    "data['Phrase'] = data['Phrase'].apply(lambda x: preprocessing(x))\n",
    "df_test['Phrase'] = df_test['Phrase'].apply(lambda x: preprocessing(x))"
   ]
  },
  {
   "cell_type": "code",
   "execution_count": null,
   "id": "2fa3b76f-a28a-40b8-8763-3de3caa17225",
   "metadata": {},
   "outputs": [],
   "source": [
    "from sklearn.feature_extraction.text import TfidfVectorizer\n",
    "\n",
    "# tfidf=TfidfVectorizer(strip_accents=None,lowercase=False,preprocessor=None,use_idf=True,norm='l2',smooth_idf=True)\n",
    "tfidf = TfidfVectorizer()\n",
    "y=data.Sentiment\n",
    "X=tfidf.fit_transform(data.Phrase)\n",
    "test = tfidf.transform(df_test.Phrase)"
   ]
  },
  {
   "cell_type": "code",
   "execution_count": null,
   "id": "60f88124-96ca-4f04-8ee7-f0f253427e42",
   "metadata": {},
   "outputs": [],
   "source": [
    "from sklearn.model_selection import train_test_split\n",
    "X_train,X_test,y_train,y_test=train_test_split(X,y,random_state=1,test_size=0.5,shuffle=False)"
   ]
  },
  {
   "cell_type": "code",
   "execution_count": null,
   "id": "a6f367ca-1ac7-47e9-be9f-4ad66b4e5a9b",
   "metadata": {},
   "outputs": [],
   "source": [
    "from sklearn.model_selection import train_test_split\n",
    "X_train,X_test,y_train,y_test=train_test_split(X,y,random_state=1,test_size=0.5,shuffle=False)"
   ]
  },
  {
   "cell_type": "code",
   "execution_count": null,
   "id": "19052fd4-66d1-4738-a6e3-d922ccdad6d4",
   "metadata": {},
   "outputs": [],
   "source": [
    "from sklearn.linear_model import LogisticRegression\n",
    "model = LogisticRegression(multi_class='multinomial', solver='lbfgs')\n",
    "model.fit(X_train, y_train)"
   ]
  },
  {
   "cell_type": "code",
   "execution_count": null,
   "id": "d92bd835-68dc-4f95-903b-1ab2b5fb2908",
   "metadata": {},
   "outputs": [],
   "source": [
    "from sklearn.metrics import accuracy_score, classification_report\n",
    "\n",
    "y_pred = model.predict(X_test)\n",
    "\n",
    "# Calculate accuracy\n",
    "accuracy = accuracy_score(y_test, y_pred)\n",
    "print(f\"Accuracy: {accuracy:.2f}\")\n",
    "\n",
    "# Detailed classification report\n",
    "print(classification_report(y_test, y_pred))"
   ]
  },
  {
   "cell_type": "code",
   "execution_count": null,
   "id": "00201c54-af48-4fbc-9c12-747eb4b2c9b0",
   "metadata": {},
   "outputs": [],
   "source": [
    "pred = model.predict(test)"
   ]
  },
  {
   "cell_type": "code",
   "execution_count": null,
   "id": "3a7a955a-082b-402c-9d43-73896dbf781b",
   "metadata": {},
   "outputs": [],
   "source": [
    "df_test.head()"
   ]
  },
  {
   "cell_type": "code",
   "execution_count": null,
   "id": "ec55af31-dff0-4b9a-b6a5-f006dbcf5b55",
   "metadata": {},
   "outputs": [],
   "source": [
    "import pickle\n",
    "with open ('model_pickle', 'wb') as f:\n",
    "    pickle.dump(model, f)"
   ]
  },
  {
   "cell_type": "code",
   "execution_count": null,
   "id": "ed275c2e-519c-4e8d-9342-d30fefaadd6a",
   "metadata": {},
   "outputs": [],
   "source": [
    "with open('model_pickle', 'rb') as f:\n",
    "    mp = pickle.load(f)\n",
    "mp.predict(test)"
   ]
  },
  {
   "cell_type": "code",
   "execution_count": null,
   "id": "3fda60fb-afe1-4908-acfa-56cc3774a94e",
   "metadata": {},
   "outputs": [],
   "source": []
  }
 ],
 "metadata": {
  "kernelspec": {
   "display_name": "Python 3 (ipykernel)",
   "language": "python",
   "name": "python3"
  },
  "language_info": {
   "codemirror_mode": {
    "name": "ipython",
    "version": 3
   },
   "file_extension": ".py",
   "mimetype": "text/x-python",
   "name": "python",
   "nbconvert_exporter": "python",
   "pygments_lexer": "ipython3",
   "version": "3.12.4"
  }
 },
 "nbformat": 4,
 "nbformat_minor": 5
}
